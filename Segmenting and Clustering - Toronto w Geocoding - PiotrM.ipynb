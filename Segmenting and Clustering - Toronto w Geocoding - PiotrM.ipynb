{
    "nbformat_minor": 1, 
    "cells": [
        {
            "source": "### Segmenting and Clustering - Toronto", 
            "cell_type": "markdown", 
            "metadata": {
                "collapsed": true
            }
        }, 
        {
            "source": "##### Importing libraries", 
            "cell_type": "markdown", 
            "metadata": {}
        }, 
        {
            "execution_count": 169, 
            "cell_type": "code", 
            "metadata": {}, 
            "outputs": [], 
            "source": "from bs4 import BeautifulSoup\nimport requests\nimport collections as co\nimport pandas as pd\nimport numpy as np\nimport math"
        }, 
        {
            "execution_count": 170, 
            "cell_type": "code", 
            "metadata": {}, 
            "outputs": [], 
            "source": "!wget -q -O 'page.html' https://en.wikipedia.org/wiki/List_of_postal_codes_of_Canada:_M"
        }, 
        {
            "source": "##### BeautifulSoup definition", 
            "cell_type": "markdown", 
            "metadata": {}
        }, 
        {
            "execution_count": 171, 
            "cell_type": "code", 
            "metadata": {}, 
            "outputs": [], 
            "source": "with open('page.html','r') as fin:\n    soup = BeautifulSoup(fin.read(),'lxml')\n    \ntable = soup.find('table', attrs={'class': 'wikitable sortable'})\ntable_body = table.find('tbody')\ntable_head = table.find('tr')\n\nheader = []    \nfor th in table_head.findAll('th'):\n    key = th.text.strip()\n    header.append(key)"
        }, 
        {
            "execution_count": 172, 
            "cell_type": "code", 
            "metadata": {}, 
            "outputs": [], 
            "source": "rows = len(table_body.findAll('tr'))\nour_list = []"
        }, 
        {
            "source": "##### Reading values into list", 
            "cell_type": "markdown", 
            "metadata": {}
        }, 
        {
            "execution_count": 173, 
            "cell_type": "code", 
            "metadata": {}, 
            "outputs": [], 
            "source": "i=0\nfor table_row in table_body.findAll('td'):\n    i=i+1\n    if i==1: \n        postcode = table_row.text.strip()\n    elif i==2: \n        borough = table_row.text.strip()\n    elif i==3: \n                neighborhood = table_row.text.strip() \n                one_row = {'Postcode': postcode, 'Borough': borough, 'Neighbourhood': neighborhood}\n                our_list.append(one_row)\n                i=0                "
        }, 
        {
            "execution_count": 174, 
            "cell_type": "code", 
            "metadata": {}, 
            "outputs": [], 
            "source": "df = pd.DataFrame.from_records(our_list, columns=header)\ndf = df.rename(columns = {'Postcode':'PostCode'})\ndf.replace('Not assigned', np.NaN, inplace=True)\ndf.dropna(subset=['Borough'],inplace=True)"
        }, 
        {
            "execution_count": 203, 
            "cell_type": "code", 
            "metadata": {}, 
            "outputs": [
                {
                    "execution_count": 203, 
                    "metadata": {}, 
                    "data": {
                        "text/html": "<div>\n<style scoped>\n    .dataframe tbody tr th:only-of-type {\n        vertical-align: middle;\n    }\n\n    .dataframe tbody tr th {\n        vertical-align: top;\n    }\n\n    .dataframe thead th {\n        text-align: right;\n    }\n</style>\n<table border=\"1\" class=\"dataframe\">\n  <thead>\n    <tr style=\"text-align: right;\">\n      <th></th>\n      <th>PostCode</th>\n      <th>Borough</th>\n      <th>Neighbourhood</th>\n    </tr>\n  </thead>\n  <tbody>\n    <tr>\n      <th>0</th>\n      <td>M1B</td>\n      <td>Scarborough</td>\n      <td>[Rouge, Malvern]</td>\n    </tr>\n    <tr>\n      <th>1</th>\n      <td>M1C</td>\n      <td>Scarborough</td>\n      <td>[Highland Creek, Rouge Hill, Port Union]</td>\n    </tr>\n    <tr>\n      <th>2</th>\n      <td>M1E</td>\n      <td>Scarborough</td>\n      <td>[Guildwood, Morningside, West Hill]</td>\n    </tr>\n    <tr>\n      <th>3</th>\n      <td>M1G</td>\n      <td>Scarborough</td>\n      <td>[Woburn]</td>\n    </tr>\n    <tr>\n      <th>4</th>\n      <td>M1H</td>\n      <td>Scarborough</td>\n      <td>[Cedarbrae]</td>\n    </tr>\n  </tbody>\n</table>\n</div>", 
                        "text/plain": "  PostCode      Borough                             Neighbourhood\n0      M1B  Scarborough                          [Rouge, Malvern]\n1      M1C  Scarborough  [Highland Creek, Rouge Hill, Port Union]\n2      M1E  Scarborough       [Guildwood, Morningside, West Hill]\n3      M1G  Scarborough                                  [Woburn]\n4      M1H  Scarborough                               [Cedarbrae]"
                    }, 
                    "output_type": "execute_result"
                }
            ], 
            "source": "grouped = df.groupby(['PostCode','Borough'])['Neighbourhood'].apply(list).reset_index() "
        }, 
        {
            "execution_count": null, 
            "cell_type": "code", 
            "metadata": {}, 
            "outputs": [], 
            "source": "if(grouped['Neighbourhood'].isnan):\n    grouped['Neighbourhood'] = grouped['Borough']"
        }, 
        {
            "execution_count": 234, 
            "cell_type": "code", 
            "metadata": {}, 
            "outputs": [
                {
                    "execution_count": 234, 
                    "metadata": {}, 
                    "data": {
                        "text/plain": "(103, 3)"
                    }, 
                    "output_type": "execute_result"
                }
            ], 
            "source": "grouped.shape"
        }, 
        {
            "source": "### Geocoding section", 
            "cell_type": "markdown", 
            "metadata": {}
        }, 
        {
            "execution_count": 236, 
            "cell_type": "code", 
            "metadata": {}, 
            "outputs": [], 
            "source": "!wget -q -O 'geo.csv' http://cocl.us/Geospatial_data"
        }, 
        {
            "execution_count": null, 
            "cell_type": "code", 
            "metadata": {}, 
            "outputs": [], 
            "source": "import geocoder # import geocoder\n# initialize your variable to None\nlat_lng_coords = None\n# loop until you get the coordinates\n\nwhile(lat_lng_coords is None):\n  g = geocoder.google('{}, Toronto, Ontario'.format(postal_code))\n  lat_lng_coords = g.latlng\n\nlatitude = lat_lng_coords[0]\nlongitude = lat_lng_coords[1]"
        }
    ], 
    "metadata": {
        "kernelspec": {
            "display_name": "Python 3.5", 
            "name": "python3", 
            "language": "python"
        }, 
        "language_info": {
            "mimetype": "text/x-python", 
            "nbconvert_exporter": "python", 
            "version": "3.5.5", 
            "name": "python", 
            "file_extension": ".py", 
            "pygments_lexer": "ipython3", 
            "codemirror_mode": {
                "version": 3, 
                "name": "ipython"
            }
        }
    }, 
    "nbformat": 4
}