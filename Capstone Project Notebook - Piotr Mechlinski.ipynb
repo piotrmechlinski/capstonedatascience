{
    "nbformat": 4, 
    "nbformat_minor": 1, 
    "cells": [
        {
            "source": "### This is example Notebook for Capstone Project in Applied Data Science Course", 
            "cell_type": "markdown", 
            "metadata": {
                "collapsed": true
            }
        }, 
        {
            "source": "import pandas as pd\nimport numpy as np", 
            "execution_count": 4, 
            "cell_type": "code", 
            "metadata": {}, 
            "outputs": []
        }, 
        {
            "source": "print('Hello Capstone Project Course!')", 
            "execution_count": 7, 
            "cell_type": "code", 
            "metadata": {}, 
            "outputs": [
                {
                    "name": "stdout", 
                    "text": "Hello Capstone Project Course!\n", 
                    "output_type": "stream"
                }
            ]
        }
    ], 
    "metadata": {
        "language_info": {
            "name": "python", 
            "codemirror_mode": {
                "name": "ipython", 
                "version": 3
            }, 
            "file_extension": ".py", 
            "version": "3.5.5", 
            "mimetype": "text/x-python", 
            "pygments_lexer": "ipython3", 
            "nbconvert_exporter": "python"
        }, 
        "kernelspec": {
            "name": "python3", 
            "display_name": "Python 3.5", 
            "language": "python"
        }
    }
}